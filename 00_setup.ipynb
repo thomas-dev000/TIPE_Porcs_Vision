{
  "nbformat": 4,
  "nbformat_minor": 0,
  "metadata": {
    "colab": {
      "provenance": [],
      "toc_visible": true,
      "gpuType": "T4",
      "authorship_tag": "ABX9TyNQiIVkZt56+aMxnWojao09",
      "include_colab_link": true
    },
    "kernelspec": {
      "name": "python3",
      "display_name": "Python 3"
    },
    "language_info": {
      "name": "python"
    },
    "accelerator": "GPU"
  },
  "cells": [
    {
      "cell_type": "markdown",
      "metadata": {
        "id": "view-in-github",
        "colab_type": "text"
      },
      "source": [
        "<a href=\"https://colab.research.google.com/github/thomas-dev000/TIPE_Porcs_Vision/blob/main/00_setup.ipynb\" target=\"_parent\"><img src=\"https://colab.research.google.com/assets/colab-badge.svg\" alt=\"Open In Colab\"/></a>"
      ]
    },
    {
      "cell_type": "code",
      "execution_count": 1,
      "metadata": {
        "colab": {
          "base_uri": "https://localhost:8080/"
        },
        "id": "wU1dvJ6t2bSL",
        "outputId": "37c0edfa-4138-4a86-dca3-a0c88f8d91a7"
      },
      "outputs": [
        {
          "output_type": "stream",
          "name": "stdout",
          "text": [
            "Drive already mounted at /content/drive; to attempt to forcibly remount, call drive.mount(\"/content/drive\", force_remount=True).\n",
            "Arborescence créée à: /content/drive/MyDrive/TIPE/Projet_Info_Detection_porc\n",
            " - /content/drive/MyDrive/TIPE/Projet_Info_Detection_porc\n",
            " - /content/drive/MyDrive/TIPE/Projet_Info_Detection_porc/data/raw\n",
            " - /content/drive/MyDrive/TIPE/Projet_Info_Detection_porc/data/processed_yolo\n",
            " - /content/drive/MyDrive/TIPE/Projet_Info_Detection_porc/results\n",
            " - /content/drive/MyDrive/TIPE/Projet_Info_Detection_porc/results/video_pred\n",
            " - /content/drive/MyDrive/TIPE/Projet_Info_Detection_porc/results/metrics\n",
            " - /content/drive/MyDrive/TIPE/Projet_Info_Detection_porc/notebooks\n",
            " - /content/drive/MyDrive/TIPE/Projet_Info_Detection_porc/docs\n"
          ]
        }
      ],
      "source": [
        "# [ÉTAPE 1] Monter Google Drive & créer l'arborescence du projet\n",
        "# À exécuter AU DÉBUT et APRÈS CHAQUE REDÉMARRAGE de Colab.\n",
        "\n",
        "from google.colab import drive\n",
        "drive.mount('/content/drive')\n",
        "\n",
        "import os\n",
        "\n",
        "ROOT = \"/content/drive/MyDrive/TIPE/Projet_Info_Detection_porc\"\n",
        "DIRS = [\n",
        "    ROOT,\n",
        "    f\"{ROOT}/data/raw\",            # zips Roboflow + vidéos mp4\n",
        "    f\"{ROOT}/data/processed_yolo\", # dataset YOLOv8 dézippé\n",
        "    f\"{ROOT}/results\",             # entraînements/predictions\n",
        "    f\"{ROOT}/results/video_pred\",  # sorties vidéo\n",
        "    f\"{ROOT}/results/metrics\",     # CSV + graphes\n",
        "    f\"{ROOT}/notebooks\",           # hyp, botsort.yaml, etc.\n",
        "    f\"{ROOT}/docs\",                # rapport + slides\n",
        "]\n",
        "for d in DIRS:\n",
        "    os.makedirs(d, exist_ok=True)  # idempotent: ne plante pas si ça existe déjà\n",
        "\n",
        "print(\"Arborescence créée à:\", ROOT)\n",
        "for d in DIRS:\n",
        "    print(\" -\", d)"
      ]
    },
    {
      "cell_type": "code",
      "source": [
        "# [2.A.1] Installer uniquement NumPy 2 (et outillage pip), puis REDÉMARRER le runtime.\n",
        "# Après le redémarrage, tu devras réexécuter l'Étape 1 (montage Drive), puis passer à 2.A.2.\n",
        "\n",
        "!pip -q install -U pip setuptools wheel\n",
        "!pip -q install --upgrade --no-cache-dir \"numpy>=2.2,<2.3\"\n",
        "\n",
        "import numpy as _np\n",
        "print(\"NumPy installé ->\", _np.__version__)\n",
        "print(\"👉 Maintenant : menu Exécution > Redémarrer l'environnement d'exécution\")\n"
      ],
      "metadata": {
        "id": "8rbdQYvbw_rR"
      },
      "execution_count": null,
      "outputs": []
    },
    {
      "cell_type": "code",
      "source": [
        "# [2.A.2] Pile scientifique + Ultralytics (compatibles NumPy 2 et Py3.12)\n",
        "# Si tu vois des warnings sur des paquets GPU/RL (jax/numba/rapids...), ignore-les :\n",
        "# on ne les utilise pas dans ce TIPE.\n",
        "\n",
        "# 1) Versions stables et compatibles NumPy 2\n",
        "!pip -q install --upgrade --no-cache-dir \\\n",
        "  \"pandas==2.2.2\" \\\n",
        "  \"matplotlib>=3.9,<3.10\" \\\n",
        "  \"pillow==10.4.0\" \\\n",
        "  \"opencv-python>=4.10,<4.13\"\n",
        "\n",
        "# 2) Ultralytics (version récente qui gère mieux NumPy 2 sur Colab)\n",
        "!pip -q install --upgrade --no-cache-dir \"ultralytics>=8.3.200\"\n",
        "\n",
        "# 3) (optionnel) jedi pour IPython anciens\n",
        "!pip -q install -U \"jedi>=0.16\"\n",
        "\n",
        "# 4) Sanity check (non bloquant) : recense les conflits restants éventuels\n",
        "!pip -q check || true\n",
        "\n",
        "print(\"✅ Étape 2.A.2 terminée. Enchaîne avec 2.B (vérification imports + CPU-only).\")\n"
      ],
      "metadata": {
        "id": "qgoTwFwLxB5j"
      },
      "execution_count": null,
      "outputs": []
    },
    {
      "cell_type": "code",
      "source": [
        "# [2.B] Vérification des versions + CPU-only\n",
        "import numpy, pandas, matplotlib, PIL, cv2, ultralytics, torch, platform\n",
        "print(\"NumPy       :\", numpy.__version__)\n",
        "print(\"Pandas      :\", pandas.__version__)\n",
        "import matplotlib as mpl; print(\"Matplotlib  :\", mpl.__version__)\n",
        "import PIL as pil;        print(\"Pillow      :\", pil.__version__)\n",
        "print(\"OpenCV      :\", cv2.__version__)\n",
        "print(\"Ultralytics :\", ultralytics.__version__)\n",
        "print(\"Torch       :\", torch.__version__, \"| CUDA dispo ?\", torch.cuda.is_available())\n",
        "print(\"Python      :\", platform.python_version())\n",
        "\n",
        "# Pour ce TIPE, on reste en CPU-only.\n",
        "assert not torch.cuda.is_available(), \"Active 'Aucun' dans Accélérateur matériel (Exécution > Modifier le type d’exécution).\"\n"
      ],
      "metadata": {
        "id": "SWk-uAgdxDyk"
      },
      "execution_count": null,
      "outputs": []
    }
  ]
}